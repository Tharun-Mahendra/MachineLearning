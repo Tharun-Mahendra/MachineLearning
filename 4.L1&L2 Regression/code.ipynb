{
 "cells": [
  {
   "cell_type": "markdown",
   "id": "35f56614",
   "metadata": {},
   "source": [
    "## Lets Import Libraries and Clean the Data"
   ]
  },
  {
   "cell_type": "code",
   "execution_count": 1,
   "id": "7b9d8686",
   "metadata": {},
   "outputs": [],
   "source": [
    "# importimg libraries\n",
    "import numpy as np\n",
    "import pandas as pd\n",
    "import matplotlib.pyplot as plt\n",
    "import seaborn as sns\n",
    "\n",
    "# import machine learning libraries\n",
    "from sklearn.model_selection import train_test_split\n",
    "from sklearn.linear_model import LinearRegression, Ridge, Lasso\n",
    "from sklearn.metrics import r2_score\n",
    "\n",
    "from sklearn import preprocessing\n",
    "from sklearn.preprocessing import PolynomialFeatures"
   ]
  },
  {
   "cell_type": "code",
   "execution_count": 2,
   "id": "061e0397",
   "metadata": {},
   "outputs": [
    {
     "data": {
      "text/html": [
       "<div>\n",
       "<style scoped>\n",
       "    .dataframe tbody tr th:only-of-type {\n",
       "        vertical-align: middle;\n",
       "    }\n",
       "\n",
       "    .dataframe tbody tr th {\n",
       "        vertical-align: top;\n",
       "    }\n",
       "\n",
       "    .dataframe thead th {\n",
       "        text-align: right;\n",
       "    }\n",
       "</style>\n",
       "<table border=\"1\" class=\"dataframe\">\n",
       "  <thead>\n",
       "    <tr style=\"text-align: right;\">\n",
       "      <th></th>\n",
       "      <th>mpg</th>\n",
       "      <th>cyl</th>\n",
       "      <th>disp</th>\n",
       "      <th>hp</th>\n",
       "      <th>wt</th>\n",
       "      <th>acc</th>\n",
       "      <th>yr</th>\n",
       "      <th>origin</th>\n",
       "      <th>car_type</th>\n",
       "      <th>car_name</th>\n",
       "    </tr>\n",
       "  </thead>\n",
       "  <tbody>\n",
       "    <tr>\n",
       "      <th>0</th>\n",
       "      <td>18.0</td>\n",
       "      <td>8</td>\n",
       "      <td>307.0</td>\n",
       "      <td>130</td>\n",
       "      <td>3504</td>\n",
       "      <td>12.0</td>\n",
       "      <td>70</td>\n",
       "      <td>1</td>\n",
       "      <td>0</td>\n",
       "      <td>chevrolet chevelle malibu</td>\n",
       "    </tr>\n",
       "    <tr>\n",
       "      <th>1</th>\n",
       "      <td>15.0</td>\n",
       "      <td>8</td>\n",
       "      <td>350.0</td>\n",
       "      <td>165</td>\n",
       "      <td>3693</td>\n",
       "      <td>11.5</td>\n",
       "      <td>70</td>\n",
       "      <td>1</td>\n",
       "      <td>0</td>\n",
       "      <td>buick skylark 320</td>\n",
       "    </tr>\n",
       "    <tr>\n",
       "      <th>2</th>\n",
       "      <td>18.0</td>\n",
       "      <td>8</td>\n",
       "      <td>318.0</td>\n",
       "      <td>150</td>\n",
       "      <td>3436</td>\n",
       "      <td>11.0</td>\n",
       "      <td>70</td>\n",
       "      <td>1</td>\n",
       "      <td>0</td>\n",
       "      <td>plymouth satellite</td>\n",
       "    </tr>\n",
       "    <tr>\n",
       "      <th>3</th>\n",
       "      <td>16.0</td>\n",
       "      <td>8</td>\n",
       "      <td>304.0</td>\n",
       "      <td>150</td>\n",
       "      <td>3433</td>\n",
       "      <td>12.0</td>\n",
       "      <td>70</td>\n",
       "      <td>1</td>\n",
       "      <td>0</td>\n",
       "      <td>amc rebel sst</td>\n",
       "    </tr>\n",
       "    <tr>\n",
       "      <th>4</th>\n",
       "      <td>17.0</td>\n",
       "      <td>8</td>\n",
       "      <td>302.0</td>\n",
       "      <td>140</td>\n",
       "      <td>3449</td>\n",
       "      <td>10.5</td>\n",
       "      <td>70</td>\n",
       "      <td>1</td>\n",
       "      <td>0</td>\n",
       "      <td>ford torino</td>\n",
       "    </tr>\n",
       "  </tbody>\n",
       "</table>\n",
       "</div>"
      ],
      "text/plain": [
       "    mpg  cyl   disp   hp    wt   acc  yr  origin  car_type  \\\n",
       "0  18.0    8  307.0  130  3504  12.0  70       1         0   \n",
       "1  15.0    8  350.0  165  3693  11.5  70       1         0   \n",
       "2  18.0    8  318.0  150  3436  11.0  70       1         0   \n",
       "3  16.0    8  304.0  150  3433  12.0  70       1         0   \n",
       "4  17.0    8  302.0  140  3449  10.5  70       1         0   \n",
       "\n",
       "                    car_name  \n",
       "0  chevrolet chevelle malibu  \n",
       "1          buick skylark 320  \n",
       "2         plymouth satellite  \n",
       "3              amc rebel sst  \n",
       "4                ford torino  "
      ]
     },
     "execution_count": 2,
     "metadata": {},
     "output_type": "execute_result"
    }
   ],
   "source": [
    "# importing the dataset\n",
    "data=pd.read_csv('cars.csv')\n",
    "data.head()"
   ]
  },
  {
   "cell_type": "code",
   "execution_count": 3,
   "id": "249f4f44",
   "metadata": {},
   "outputs": [],
   "source": [
    "# lets rename the columns for better understanding\n",
    "data.columns=['mileage','cylinders','dispersion','horsepower','weight','acceleration','model_year','origin','car_type','car_name']"
   ]
  },
  {
   "cell_type": "code",
   "execution_count": 4,
   "id": "9598e984",
   "metadata": {},
   "outputs": [
    {
     "data": {
      "text/html": [
       "<div>\n",
       "<style scoped>\n",
       "    .dataframe tbody tr th:only-of-type {\n",
       "        vertical-align: middle;\n",
       "    }\n",
       "\n",
       "    .dataframe tbody tr th {\n",
       "        vertical-align: top;\n",
       "    }\n",
       "\n",
       "    .dataframe thead th {\n",
       "        text-align: right;\n",
       "    }\n",
       "</style>\n",
       "<table border=\"1\" class=\"dataframe\">\n",
       "  <thead>\n",
       "    <tr style=\"text-align: right;\">\n",
       "      <th></th>\n",
       "      <th>mileage</th>\n",
       "      <th>cylinders</th>\n",
       "      <th>dispersion</th>\n",
       "      <th>horsepower</th>\n",
       "      <th>weight</th>\n",
       "      <th>acceleration</th>\n",
       "      <th>model_year</th>\n",
       "      <th>origin</th>\n",
       "      <th>car_type</th>\n",
       "      <th>car_name</th>\n",
       "    </tr>\n",
       "  </thead>\n",
       "  <tbody>\n",
       "    <tr>\n",
       "      <th>0</th>\n",
       "      <td>18.0</td>\n",
       "      <td>8</td>\n",
       "      <td>307.0</td>\n",
       "      <td>130</td>\n",
       "      <td>3504</td>\n",
       "      <td>12.0</td>\n",
       "      <td>70</td>\n",
       "      <td>1</td>\n",
       "      <td>0</td>\n",
       "      <td>chevrolet chevelle malibu</td>\n",
       "    </tr>\n",
       "    <tr>\n",
       "      <th>1</th>\n",
       "      <td>15.0</td>\n",
       "      <td>8</td>\n",
       "      <td>350.0</td>\n",
       "      <td>165</td>\n",
       "      <td>3693</td>\n",
       "      <td>11.5</td>\n",
       "      <td>70</td>\n",
       "      <td>1</td>\n",
       "      <td>0</td>\n",
       "      <td>buick skylark 320</td>\n",
       "    </tr>\n",
       "    <tr>\n",
       "      <th>2</th>\n",
       "      <td>18.0</td>\n",
       "      <td>8</td>\n",
       "      <td>318.0</td>\n",
       "      <td>150</td>\n",
       "      <td>3436</td>\n",
       "      <td>11.0</td>\n",
       "      <td>70</td>\n",
       "      <td>1</td>\n",
       "      <td>0</td>\n",
       "      <td>plymouth satellite</td>\n",
       "    </tr>\n",
       "    <tr>\n",
       "      <th>3</th>\n",
       "      <td>16.0</td>\n",
       "      <td>8</td>\n",
       "      <td>304.0</td>\n",
       "      <td>150</td>\n",
       "      <td>3433</td>\n",
       "      <td>12.0</td>\n",
       "      <td>70</td>\n",
       "      <td>1</td>\n",
       "      <td>0</td>\n",
       "      <td>amc rebel sst</td>\n",
       "    </tr>\n",
       "    <tr>\n",
       "      <th>4</th>\n",
       "      <td>17.0</td>\n",
       "      <td>8</td>\n",
       "      <td>302.0</td>\n",
       "      <td>140</td>\n",
       "      <td>3449</td>\n",
       "      <td>10.5</td>\n",
       "      <td>70</td>\n",
       "      <td>1</td>\n",
       "      <td>0</td>\n",
       "      <td>ford torino</td>\n",
       "    </tr>\n",
       "  </tbody>\n",
       "</table>\n",
       "</div>"
      ],
      "text/plain": [
       "   mileage  cylinders  dispersion horsepower  weight  acceleration  \\\n",
       "0     18.0          8       307.0        130    3504          12.0   \n",
       "1     15.0          8       350.0        165    3693          11.5   \n",
       "2     18.0          8       318.0        150    3436          11.0   \n",
       "3     16.0          8       304.0        150    3433          12.0   \n",
       "4     17.0          8       302.0        140    3449          10.5   \n",
       "\n",
       "   model_year  origin  car_type                   car_name  \n",
       "0          70       1         0  chevrolet chevelle malibu  \n",
       "1          70       1         0          buick skylark 320  \n",
       "2          70       1         0         plymouth satellite  \n",
       "3          70       1         0              amc rebel sst  \n",
       "4          70       1         0                ford torino  "
      ]
     },
     "execution_count": 4,
     "metadata": {},
     "output_type": "execute_result"
    }
   ],
   "source": [
    "data.head()"
   ]
  },
  {
   "cell_type": "code",
   "execution_count": 5,
   "id": "0ab949e5",
   "metadata": {},
   "outputs": [],
   "source": [
    "# lets drop the car name column as it is not useful for our analysis\n",
    "data.drop('car_name',axis=1,inplace=True)"
   ]
  },
  {
   "cell_type": "code",
   "execution_count": 6,
   "id": "273cbe95",
   "metadata": {},
   "outputs": [],
   "source": [
    "import warnings\n",
    "warnings.filterwarnings('ignore')\n",
    "\n",
    "# lets replace origin from 0,1,2 to USA, Europe, Japan\n",
    "data['origin']=data['origin'].replace({1:'USA',2:'Europe',3:'Japan'})\n",
    "data=pd.get_dummies(data,columns=['origin'],dtype='int')"
   ]
  },
  {
   "cell_type": "code",
   "execution_count": 7,
   "id": "f90e73da",
   "metadata": {},
   "outputs": [
    {
     "data": {
      "text/html": [
       "<div>\n",
       "<style scoped>\n",
       "    .dataframe tbody tr th:only-of-type {\n",
       "        vertical-align: middle;\n",
       "    }\n",
       "\n",
       "    .dataframe tbody tr th {\n",
       "        vertical-align: top;\n",
       "    }\n",
       "\n",
       "    .dataframe thead th {\n",
       "        text-align: right;\n",
       "    }\n",
       "</style>\n",
       "<table border=\"1\" class=\"dataframe\">\n",
       "  <thead>\n",
       "    <tr style=\"text-align: right;\">\n",
       "      <th></th>\n",
       "      <th>mileage</th>\n",
       "      <th>cylinders</th>\n",
       "      <th>dispersion</th>\n",
       "      <th>horsepower</th>\n",
       "      <th>weight</th>\n",
       "      <th>acceleration</th>\n",
       "      <th>model_year</th>\n",
       "      <th>car_type</th>\n",
       "      <th>origin_Europe</th>\n",
       "      <th>origin_Japan</th>\n",
       "      <th>origin_USA</th>\n",
       "    </tr>\n",
       "  </thead>\n",
       "  <tbody>\n",
       "    <tr>\n",
       "      <th>0</th>\n",
       "      <td>18.0</td>\n",
       "      <td>8</td>\n",
       "      <td>307.0</td>\n",
       "      <td>130</td>\n",
       "      <td>3504</td>\n",
       "      <td>12.0</td>\n",
       "      <td>70</td>\n",
       "      <td>0</td>\n",
       "      <td>0</td>\n",
       "      <td>0</td>\n",
       "      <td>1</td>\n",
       "    </tr>\n",
       "    <tr>\n",
       "      <th>1</th>\n",
       "      <td>15.0</td>\n",
       "      <td>8</td>\n",
       "      <td>350.0</td>\n",
       "      <td>165</td>\n",
       "      <td>3693</td>\n",
       "      <td>11.5</td>\n",
       "      <td>70</td>\n",
       "      <td>0</td>\n",
       "      <td>0</td>\n",
       "      <td>0</td>\n",
       "      <td>1</td>\n",
       "    </tr>\n",
       "    <tr>\n",
       "      <th>2</th>\n",
       "      <td>18.0</td>\n",
       "      <td>8</td>\n",
       "      <td>318.0</td>\n",
       "      <td>150</td>\n",
       "      <td>3436</td>\n",
       "      <td>11.0</td>\n",
       "      <td>70</td>\n",
       "      <td>0</td>\n",
       "      <td>0</td>\n",
       "      <td>0</td>\n",
       "      <td>1</td>\n",
       "    </tr>\n",
       "    <tr>\n",
       "      <th>3</th>\n",
       "      <td>16.0</td>\n",
       "      <td>8</td>\n",
       "      <td>304.0</td>\n",
       "      <td>150</td>\n",
       "      <td>3433</td>\n",
       "      <td>12.0</td>\n",
       "      <td>70</td>\n",
       "      <td>0</td>\n",
       "      <td>0</td>\n",
       "      <td>0</td>\n",
       "      <td>1</td>\n",
       "    </tr>\n",
       "    <tr>\n",
       "      <th>4</th>\n",
       "      <td>17.0</td>\n",
       "      <td>8</td>\n",
       "      <td>302.0</td>\n",
       "      <td>140</td>\n",
       "      <td>3449</td>\n",
       "      <td>10.5</td>\n",
       "      <td>70</td>\n",
       "      <td>0</td>\n",
       "      <td>0</td>\n",
       "      <td>0</td>\n",
       "      <td>1</td>\n",
       "    </tr>\n",
       "  </tbody>\n",
       "</table>\n",
       "</div>"
      ],
      "text/plain": [
       "   mileage  cylinders  dispersion horsepower  weight  acceleration  \\\n",
       "0     18.0          8       307.0        130    3504          12.0   \n",
       "1     15.0          8       350.0        165    3693          11.5   \n",
       "2     18.0          8       318.0        150    3436          11.0   \n",
       "3     16.0          8       304.0        150    3433          12.0   \n",
       "4     17.0          8       302.0        140    3449          10.5   \n",
       "\n",
       "   model_year  car_type  origin_Europe  origin_Japan  origin_USA  \n",
       "0          70         0              0             0           1  \n",
       "1          70         0              0             0           1  \n",
       "2          70         0              0             0           1  \n",
       "3          70         0              0             0           1  \n",
       "4          70         0              0             0           1  "
      ]
     },
     "execution_count": 7,
     "metadata": {},
     "output_type": "execute_result"
    }
   ],
   "source": [
    "data.head()"
   ]
  },
  {
   "cell_type": "code",
   "execution_count": 8,
   "id": "ab9b68db",
   "metadata": {},
   "outputs": [
    {
     "data": {
      "text/plain": [
       "mileage          0\n",
       "cylinders        0\n",
       "dispersion       0\n",
       "horsepower       0\n",
       "weight           0\n",
       "acceleration     0\n",
       "model_year       0\n",
       "car_type         0\n",
       "origin_Europe    0\n",
       "origin_Japan     0\n",
       "origin_USA       0\n",
       "dtype: int64"
      ]
     },
     "execution_count": 8,
     "metadata": {},
     "output_type": "execute_result"
    }
   ],
   "source": [
    "data.isna().sum()"
   ]
  },
  {
   "cell_type": "code",
   "execution_count": 9,
   "id": "6edde2c8",
   "metadata": {},
   "outputs": [],
   "source": [
    "# some data is containing '?', lets replace it with NaN\n",
    "data.replace('?',np.nan,inplace=True)"
   ]
  },
  {
   "cell_type": "code",
   "execution_count": 10,
   "id": "c992ecff",
   "metadata": {},
   "outputs": [
    {
     "data": {
      "text/plain": [
       "mileage          0\n",
       "cylinders        0\n",
       "dispersion       0\n",
       "horsepower       6\n",
       "weight           0\n",
       "acceleration     0\n",
       "model_year       0\n",
       "car_type         0\n",
       "origin_Europe    0\n",
       "origin_Japan     0\n",
       "origin_USA       0\n",
       "dtype: int64"
      ]
     },
     "execution_count": 10,
     "metadata": {},
     "output_type": "execute_result"
    }
   ],
   "source": [
    "data.isna().sum()"
   ]
  },
  {
   "cell_type": "code",
   "execution_count": 11,
   "id": "7d74bd86",
   "metadata": {},
   "outputs": [
    {
     "data": {
      "text/plain": [
       "mileage          float64\n",
       "cylinders          int64\n",
       "dispersion       float64\n",
       "horsepower        object\n",
       "weight             int64\n",
       "acceleration     float64\n",
       "model_year         int64\n",
       "car_type           int64\n",
       "origin_Europe      int32\n",
       "origin_Japan       int32\n",
       "origin_USA         int32\n",
       "dtype: object"
      ]
     },
     "execution_count": 11,
     "metadata": {},
     "output_type": "execute_result"
    }
   ],
   "source": [
    "#lets check data types\n",
    "data.dtypes"
   ]
  },
  {
   "cell_type": "code",
   "execution_count": 12,
   "id": "622bacfb",
   "metadata": {},
   "outputs": [],
   "source": [
    "#lets convert horsepower to float and fill NaN with median value\n",
    "data['horsepower']=data['horsepower'].astype(float)\n",
    "data['horsepower'].fillna(data['horsepower'].median(),inplace=True)"
   ]
  },
  {
   "cell_type": "code",
   "execution_count": 13,
   "id": "d82c23ef",
   "metadata": {},
   "outputs": [
    {
     "data": {
      "text/plain": [
       "mileage          0\n",
       "cylinders        0\n",
       "dispersion       0\n",
       "horsepower       0\n",
       "weight           0\n",
       "acceleration     0\n",
       "model_year       0\n",
       "car_type         0\n",
       "origin_Europe    0\n",
       "origin_Japan     0\n",
       "origin_USA       0\n",
       "dtype: int64"
      ]
     },
     "execution_count": 13,
     "metadata": {},
     "output_type": "execute_result"
    }
   ],
   "source": [
    "data.isna().sum()"
   ]
  },
  {
   "cell_type": "markdown",
   "id": "d34df64e",
   "metadata": {},
   "source": [
    "## Model Building"
   ]
  },
  {
   "cell_type": "code",
   "execution_count": 14,
   "id": "d6501f33",
   "metadata": {},
   "outputs": [],
   "source": [
    "# lets divide the data into dependent and independent variables\n",
    "x=data.drop('mileage',axis=1)\n",
    "y=data['mileage']"
   ]
  },
  {
   "cell_type": "code",
   "execution_count": 15,
   "id": "d8bac95b",
   "metadata": {},
   "outputs": [
    {
     "data": {
      "text/html": [
       "<div>\n",
       "<style scoped>\n",
       "    .dataframe tbody tr th:only-of-type {\n",
       "        vertical-align: middle;\n",
       "    }\n",
       "\n",
       "    .dataframe tbody tr th {\n",
       "        vertical-align: top;\n",
       "    }\n",
       "\n",
       "    .dataframe thead th {\n",
       "        text-align: right;\n",
       "    }\n",
       "</style>\n",
       "<table border=\"1\" class=\"dataframe\">\n",
       "  <thead>\n",
       "    <tr style=\"text-align: right;\">\n",
       "      <th></th>\n",
       "      <th>cylinders</th>\n",
       "      <th>dispersion</th>\n",
       "      <th>horsepower</th>\n",
       "      <th>weight</th>\n",
       "      <th>acceleration</th>\n",
       "      <th>model_year</th>\n",
       "      <th>car_type</th>\n",
       "      <th>origin_Europe</th>\n",
       "      <th>origin_Japan</th>\n",
       "      <th>origin_USA</th>\n",
       "    </tr>\n",
       "  </thead>\n",
       "  <tbody>\n",
       "    <tr>\n",
       "      <th>0</th>\n",
       "      <td>8</td>\n",
       "      <td>307.0</td>\n",
       "      <td>130.0</td>\n",
       "      <td>3504</td>\n",
       "      <td>12.0</td>\n",
       "      <td>70</td>\n",
       "      <td>0</td>\n",
       "      <td>0</td>\n",
       "      <td>0</td>\n",
       "      <td>1</td>\n",
       "    </tr>\n",
       "    <tr>\n",
       "      <th>1</th>\n",
       "      <td>8</td>\n",
       "      <td>350.0</td>\n",
       "      <td>165.0</td>\n",
       "      <td>3693</td>\n",
       "      <td>11.5</td>\n",
       "      <td>70</td>\n",
       "      <td>0</td>\n",
       "      <td>0</td>\n",
       "      <td>0</td>\n",
       "      <td>1</td>\n",
       "    </tr>\n",
       "    <tr>\n",
       "      <th>2</th>\n",
       "      <td>8</td>\n",
       "      <td>318.0</td>\n",
       "      <td>150.0</td>\n",
       "      <td>3436</td>\n",
       "      <td>11.0</td>\n",
       "      <td>70</td>\n",
       "      <td>0</td>\n",
       "      <td>0</td>\n",
       "      <td>0</td>\n",
       "      <td>1</td>\n",
       "    </tr>\n",
       "    <tr>\n",
       "      <th>3</th>\n",
       "      <td>8</td>\n",
       "      <td>304.0</td>\n",
       "      <td>150.0</td>\n",
       "      <td>3433</td>\n",
       "      <td>12.0</td>\n",
       "      <td>70</td>\n",
       "      <td>0</td>\n",
       "      <td>0</td>\n",
       "      <td>0</td>\n",
       "      <td>1</td>\n",
       "    </tr>\n",
       "    <tr>\n",
       "      <th>4</th>\n",
       "      <td>8</td>\n",
       "      <td>302.0</td>\n",
       "      <td>140.0</td>\n",
       "      <td>3449</td>\n",
       "      <td>10.5</td>\n",
       "      <td>70</td>\n",
       "      <td>0</td>\n",
       "      <td>0</td>\n",
       "      <td>0</td>\n",
       "      <td>1</td>\n",
       "    </tr>\n",
       "  </tbody>\n",
       "</table>\n",
       "</div>"
      ],
      "text/plain": [
       "   cylinders  dispersion  horsepower  weight  acceleration  model_year  \\\n",
       "0          8       307.0       130.0    3504          12.0          70   \n",
       "1          8       350.0       165.0    3693          11.5          70   \n",
       "2          8       318.0       150.0    3436          11.0          70   \n",
       "3          8       304.0       150.0    3433          12.0          70   \n",
       "4          8       302.0       140.0    3449          10.5          70   \n",
       "\n",
       "   car_type  origin_Europe  origin_Japan  origin_USA  \n",
       "0         0              0             0           1  \n",
       "1         0              0             0           1  \n",
       "2         0              0             0           1  \n",
       "3         0              0             0           1  \n",
       "4         0              0             0           1  "
      ]
     },
     "execution_count": 15,
     "metadata": {},
     "output_type": "execute_result"
    }
   ],
   "source": [
    "x.head()"
   ]
  },
  {
   "cell_type": "code",
   "execution_count": 16,
   "id": "a2f5ebf0",
   "metadata": {},
   "outputs": [
    {
     "data": {
      "text/plain": [
       "0    18.0\n",
       "1    15.0\n",
       "2    18.0\n",
       "3    16.0\n",
       "4    17.0\n",
       "Name: mileage, dtype: float64"
      ]
     },
     "execution_count": 16,
     "metadata": {},
     "output_type": "execute_result"
    }
   ],
   "source": [
    "y.head()"
   ]
  },
  {
   "cell_type": "markdown",
   "id": "810c5a0e",
   "metadata": {},
   "source": [
    "### Scaling"
   ]
  },
  {
   "cell_type": "code",
   "execution_count": 17,
   "id": "fab370f1",
   "metadata": {},
   "outputs": [],
   "source": [
    "x_s=preprocessing.scale(x)\n",
    "y_s=preprocessing.scale(y)"
   ]
  },
  {
   "cell_type": "code",
   "execution_count": 18,
   "id": "c06f1323",
   "metadata": {},
   "outputs": [
    {
     "data": {
      "text/plain": [
       "(numpy.ndarray, numpy.ndarray)"
      ]
     },
     "execution_count": 18,
     "metadata": {},
     "output_type": "execute_result"
    }
   ],
   "source": [
    "type(x_s),type(y_s)"
   ]
  },
  {
   "cell_type": "code",
   "execution_count": 19,
   "id": "52842834",
   "metadata": {},
   "outputs": [],
   "source": [
    "# lets convert this scaled array to dataframe\n",
    "x_s=pd.DataFrame(x_s,columns=x.columns)\n",
    "y_s=pd.DataFrame(y_s,columns=['mileage'])"
   ]
  },
  {
   "cell_type": "code",
   "execution_count": 20,
   "id": "ee98636a",
   "metadata": {},
   "outputs": [
    {
     "data": {
      "text/html": [
       "<div>\n",
       "<style scoped>\n",
       "    .dataframe tbody tr th:only-of-type {\n",
       "        vertical-align: middle;\n",
       "    }\n",
       "\n",
       "    .dataframe tbody tr th {\n",
       "        vertical-align: top;\n",
       "    }\n",
       "\n",
       "    .dataframe thead th {\n",
       "        text-align: right;\n",
       "    }\n",
       "</style>\n",
       "<table border=\"1\" class=\"dataframe\">\n",
       "  <thead>\n",
       "    <tr style=\"text-align: right;\">\n",
       "      <th></th>\n",
       "      <th>cylinders</th>\n",
       "      <th>dispersion</th>\n",
       "      <th>horsepower</th>\n",
       "      <th>weight</th>\n",
       "      <th>acceleration</th>\n",
       "      <th>model_year</th>\n",
       "      <th>car_type</th>\n",
       "      <th>origin_Europe</th>\n",
       "      <th>origin_Japan</th>\n",
       "      <th>origin_USA</th>\n",
       "    </tr>\n",
       "  </thead>\n",
       "  <tbody>\n",
       "    <tr>\n",
       "      <th>0</th>\n",
       "      <td>1.498191</td>\n",
       "      <td>1.090604</td>\n",
       "      <td>0.673118</td>\n",
       "      <td>0.630870</td>\n",
       "      <td>-1.295498</td>\n",
       "      <td>-1.627426</td>\n",
       "      <td>-1.062235</td>\n",
       "      <td>-0.461968</td>\n",
       "      <td>-0.497643</td>\n",
       "      <td>0.773559</td>\n",
       "    </tr>\n",
       "    <tr>\n",
       "      <th>1</th>\n",
       "      <td>1.498191</td>\n",
       "      <td>1.503514</td>\n",
       "      <td>1.589958</td>\n",
       "      <td>0.854333</td>\n",
       "      <td>-1.477038</td>\n",
       "      <td>-1.627426</td>\n",
       "      <td>-1.062235</td>\n",
       "      <td>-0.461968</td>\n",
       "      <td>-0.497643</td>\n",
       "      <td>0.773559</td>\n",
       "    </tr>\n",
       "    <tr>\n",
       "      <th>2</th>\n",
       "      <td>1.498191</td>\n",
       "      <td>1.196232</td>\n",
       "      <td>1.197027</td>\n",
       "      <td>0.550470</td>\n",
       "      <td>-1.658577</td>\n",
       "      <td>-1.627426</td>\n",
       "      <td>-1.062235</td>\n",
       "      <td>-0.461968</td>\n",
       "      <td>-0.497643</td>\n",
       "      <td>0.773559</td>\n",
       "    </tr>\n",
       "    <tr>\n",
       "      <th>3</th>\n",
       "      <td>1.498191</td>\n",
       "      <td>1.061796</td>\n",
       "      <td>1.197027</td>\n",
       "      <td>0.546923</td>\n",
       "      <td>-1.295498</td>\n",
       "      <td>-1.627426</td>\n",
       "      <td>-1.062235</td>\n",
       "      <td>-0.461968</td>\n",
       "      <td>-0.497643</td>\n",
       "      <td>0.773559</td>\n",
       "    </tr>\n",
       "    <tr>\n",
       "      <th>4</th>\n",
       "      <td>1.498191</td>\n",
       "      <td>1.042591</td>\n",
       "      <td>0.935072</td>\n",
       "      <td>0.565841</td>\n",
       "      <td>-1.840117</td>\n",
       "      <td>-1.627426</td>\n",
       "      <td>-1.062235</td>\n",
       "      <td>-0.461968</td>\n",
       "      <td>-0.497643</td>\n",
       "      <td>0.773559</td>\n",
       "    </tr>\n",
       "  </tbody>\n",
       "</table>\n",
       "</div>"
      ],
      "text/plain": [
       "   cylinders  dispersion  horsepower    weight  acceleration  model_year  \\\n",
       "0   1.498191    1.090604    0.673118  0.630870     -1.295498   -1.627426   \n",
       "1   1.498191    1.503514    1.589958  0.854333     -1.477038   -1.627426   \n",
       "2   1.498191    1.196232    1.197027  0.550470     -1.658577   -1.627426   \n",
       "3   1.498191    1.061796    1.197027  0.546923     -1.295498   -1.627426   \n",
       "4   1.498191    1.042591    0.935072  0.565841     -1.840117   -1.627426   \n",
       "\n",
       "   car_type  origin_Europe  origin_Japan  origin_USA  \n",
       "0 -1.062235      -0.461968     -0.497643    0.773559  \n",
       "1 -1.062235      -0.461968     -0.497643    0.773559  \n",
       "2 -1.062235      -0.461968     -0.497643    0.773559  \n",
       "3 -1.062235      -0.461968     -0.497643    0.773559  \n",
       "4 -1.062235      -0.461968     -0.497643    0.773559  "
      ]
     },
     "execution_count": 20,
     "metadata": {},
     "output_type": "execute_result"
    }
   ],
   "source": [
    "x_s.head()"
   ]
  },
  {
   "cell_type": "code",
   "execution_count": 21,
   "id": "33b12a64",
   "metadata": {},
   "outputs": [
    {
     "data": {
      "text/html": [
       "<div>\n",
       "<style scoped>\n",
       "    .dataframe tbody tr th:only-of-type {\n",
       "        vertical-align: middle;\n",
       "    }\n",
       "\n",
       "    .dataframe tbody tr th {\n",
       "        vertical-align: top;\n",
       "    }\n",
       "\n",
       "    .dataframe thead th {\n",
       "        text-align: right;\n",
       "    }\n",
       "</style>\n",
       "<table border=\"1\" class=\"dataframe\">\n",
       "  <thead>\n",
       "    <tr style=\"text-align: right;\">\n",
       "      <th></th>\n",
       "      <th>mileage</th>\n",
       "    </tr>\n",
       "  </thead>\n",
       "  <tbody>\n",
       "    <tr>\n",
       "      <th>0</th>\n",
       "      <td>-0.706439</td>\n",
       "    </tr>\n",
       "    <tr>\n",
       "      <th>1</th>\n",
       "      <td>-1.090751</td>\n",
       "    </tr>\n",
       "    <tr>\n",
       "      <th>2</th>\n",
       "      <td>-0.706439</td>\n",
       "    </tr>\n",
       "    <tr>\n",
       "      <th>3</th>\n",
       "      <td>-0.962647</td>\n",
       "    </tr>\n",
       "    <tr>\n",
       "      <th>4</th>\n",
       "      <td>-0.834543</td>\n",
       "    </tr>\n",
       "  </tbody>\n",
       "</table>\n",
       "</div>"
      ],
      "text/plain": [
       "    mileage\n",
       "0 -0.706439\n",
       "1 -1.090751\n",
       "2 -0.706439\n",
       "3 -0.962647\n",
       "4 -0.834543"
      ]
     },
     "execution_count": 21,
     "metadata": {},
     "output_type": "execute_result"
    }
   ],
   "source": [
    "y_s.head()"
   ]
  },
  {
   "cell_type": "code",
   "execution_count": 22,
   "id": "0da39f81",
   "metadata": {},
   "outputs": [],
   "source": [
    "# lets divide into train and test data\n",
    "x_train,x_test,y_train,y_test=train_test_split(x_s,y_s,test_size=0.30,random_state=1)"
   ]
  },
  {
   "cell_type": "code",
   "execution_count": 23,
   "id": "7de130eb",
   "metadata": {},
   "outputs": [
    {
     "data": {
      "text/plain": [
       "((278, 10), (120, 10), (278, 1), (120, 1))"
      ]
     },
     "execution_count": 23,
     "metadata": {},
     "output_type": "execute_result"
    }
   ],
   "source": [
    "x_train.shape,x_test.shape,y_train.shape,y_test.shape"
   ]
  },
  {
   "cell_type": "markdown",
   "id": "0608efd1",
   "metadata": {},
   "source": [
    "## Simple Linear Model"
   ]
  },
  {
   "cell_type": "code",
   "execution_count": 24,
   "id": "59f7be40",
   "metadata": {},
   "outputs": [
    {
     "name": "stdout",
     "output_type": "stream",
     "text": [
      "    The coefficient of cylinders : 0.3210223856916098\n",
      "    The coefficient of dispersion : 0.32483430918483974\n",
      "    The coefficient of horsepower : -0.2291695005943759\n",
      "    The coefficient of weight : -0.7112101905072298\n",
      "    The coefficient of acceleration : 0.014713682764191022\n",
      "    The coefficient of model_year : 0.3755811949510743\n",
      "    The coefficient of car_type : 0.38147694842330954\n",
      "    The coefficient of origin_Europe : 0.048348549539454035\n",
      "    The coefficient of origin_Japan : 0.044515252035678146\n",
      "    The coefficient of origin_USA : -0.07472247547584192\n",
      "--------------------------------------------------------------------------\n",
      "    The intercept of the model is : 0.019284116103639736\n"
     ]
    }
   ],
   "source": [
    "regression_model=LinearRegression()\n",
    "regression_model.fit(x_train,y_train)\n",
    "\n",
    "for i,col in enumerate(x_train.columns):\n",
    "    print(f'    The coefficient of {col} : {regression_model.coef_[0][i]}')\n",
    "\n",
    "print('--------------------------------------------------------------------------')\n",
    "\n",
    "intercept=regression_model.intercept_[0]\n",
    "print(f'    The intercept of the model is : {intercept}')"
   ]
  },
  {
   "cell_type": "code",
   "execution_count": 25,
   "id": "011d159d",
   "metadata": {},
   "outputs": [
    {
     "data": {
      "text/plain": [
       "<matplotlib.collections.PathCollection at 0x1e49d024f80>"
      ]
     },
     "execution_count": 25,
     "metadata": {},
     "output_type": "execute_result"
    },
    {
     "data": {
      "image/png": "[encoded data removed]",
      "text/plain": [
       "<Figure size 640x480 with 1 Axes>"
      ]
     },
     "metadata": {},
     "output_type": "display_data"
    }
   ],
   "source": [
    "prediction=regression_model.predict(x_test)\n",
    "plt.scatter(y_test,prediction)"
   ]
  },
  {
   "cell_type": "markdown",
   "id": "3fbdb3f5",
   "metadata": {},
   "source": [
    "## Regularized Ridge Regression"
   ]
  },
  {
   "cell_type": "code",
   "execution_count": 26,
   "id": "bc169c1e",
   "metadata": {},
   "outputs": [
    {
     "name": "stdout",
     "output_type": "stream",
     "text": [
      "    The coefficient of cylinders : 0.31342091815062145\n",
      "    The coefficient of dispersion : 0.30583319953578647\n",
      "    The coefficient of horsepower : -0.22847018327709423\n",
      "    The coefficient of weight : -0.6945990025593692\n",
      "    The coefficient of acceleration : 0.011842531231363855\n",
      "    The coefficient of model_year : 0.37375576764658297\n",
      "    The coefficient of car_type : 0.37448538507504836\n",
      "    The coefficient of origin_Europe : 0.04751705551200667\n",
      "    The coefficient of origin_Japan : 0.04434814549413419\n",
      "    The coefficient of origin_USA : -0.0739306392786968\n",
      "--------------------------------------------------------------------------\n",
      "    The intercept of the model is : 0.019133137362386393\n"
     ]
    }
   ],
   "source": [
    "ridge_model=Ridge(alpha=0.5)\n",
    "ridge_model.fit(x_train,y_train)\n",
    "\n",
    "for i,col in enumerate(x_train.columns):\n",
    "    print(f'    The coefficient of {col} : {ridge_model.coef_[0][i]}')\n",
    "    \n",
    "print('--------------------------------------------------------------------------')\n",
    "\n",
    "intercept=ridge_model.intercept_[0]\n",
    "print(f'    The intercept of the model is : {intercept}')"
   ]
  },
  {
   "cell_type": "markdown",
   "id": "90c8e254",
   "metadata": {},
   "source": [
    "## Regularized Lasso Regression"
   ]
  },
  {
   "cell_type": "code",
   "execution_count": 27,
   "id": "62328330",
   "metadata": {},
   "outputs": [
    {
     "name": "stdout",
     "output_type": "stream",
     "text": [
      "    Lasso Coefficients:[-0.         -0.         -0.         -0.32811279  0.          0.\n",
      "  0.          0.          0.         -0.        ]\n",
      "--------------------------------------------------------------------------\n",
      "    The intercept of the model is : 0.003042367129955467\n"
     ]
    }
   ],
   "source": [
    "lasso_model=Lasso(alpha=0.5)\n",
    "lasso_model.fit(x_train,y_train)\n",
    "\n",
    "print('    Lasso Coefficients:{}'.format(lasso_model.coef_)) \n",
    "\n",
    "print('--------------------------------------------------------------------------')\n",
    "\n",
    "intercept=lasso_model.intercept_[0]\n",
    "print(f'    The intercept of the model is : {intercept}')"
   ]
  },
  {
   "cell_type": "code",
   "execution_count": 28,
   "id": "cc8ff30a",
   "metadata": {},
   "outputs": [
    {
     "name": "stdout",
     "output_type": "stream",
     "text": [
      "0.8343770256960538\n",
      "0.8513421387780067\n",
      "*************************\n",
      "0.8343357675769452\n",
      "0.8522256884658115\n",
      "*************************\n",
      "0.4281327630181403\n",
      "0.4621757556077828\n"
     ]
    }
   ],
   "source": [
    "#Model score - r^2 or coeff of determinant\n",
    "#r^2 = 1-(RSS/TSS) = Regression error/TSS \n",
    "\n",
    "#Simple Linear Model\n",
    "print(regression_model.score(x_train, y_train))\n",
    "print(regression_model.score(x_test, y_test))\n",
    "\n",
    "print('*************************')\n",
    "#Ridge\n",
    "print(ridge_model.score(x_train, y_train))\n",
    "print(ridge_model.score(x_test, y_test))\n",
    "\n",
    "print('*************************')\n",
    "#Lasso\n",
    "print(lasso_model.score(x_train, y_train))\n",
    "print(lasso_model.score(x_test, y_test))"
   ]
  },
  {
   "cell_type": "markdown",
   "id": "abca4044",
   "metadata": {},
   "source": [
    "## Parameter Tuning\n",
    "- `r-square` is not an reliable metric as it keeps on change/increase with addition of more attributes even if there is no relation with predicted variable.\n",
    "- so we use `adjusted r-square` which removes the statistical chances that improves r-square.\n",
    "- `adjusted r-square` = `r-square`-`fluke`\n",
    "- Scikit does not provide a facility for `adjusted r-square` so we use StatsModel ,a library that gives similar results which we obtain in r-language\n",
    "- This model accepts x&y in single dataframe "
   ]
  },
  {
   "cell_type": "code",
   "execution_count": 29,
   "id": "7b97abbd",
   "metadata": {},
   "outputs": [
    {
     "data": {
      "text/html": [
       "<div>\n",
       "<style scoped>\n",
       "    .dataframe tbody tr th:only-of-type {\n",
       "        vertical-align: middle;\n",
       "    }\n",
       "\n",
       "    .dataframe tbody tr th {\n",
       "        vertical-align: top;\n",
       "    }\n",
       "\n",
       "    .dataframe thead th {\n",
       "        text-align: right;\n",
       "    }\n",
       "</style>\n",
       "<table border=\"1\" class=\"dataframe\">\n",
       "  <thead>\n",
       "    <tr style=\"text-align: right;\">\n",
       "      <th></th>\n",
       "      <th>cylinders</th>\n",
       "      <th>dispersion</th>\n",
       "      <th>horsepower</th>\n",
       "      <th>weight</th>\n",
       "      <th>acceleration</th>\n",
       "      <th>model_year</th>\n",
       "      <th>car_type</th>\n",
       "      <th>origin_Europe</th>\n",
       "      <th>origin_Japan</th>\n",
       "      <th>origin_USA</th>\n",
       "      <th>mileage</th>\n",
       "    </tr>\n",
       "  </thead>\n",
       "  <tbody>\n",
       "    <tr>\n",
       "      <th>350</th>\n",
       "      <td>-0.856321</td>\n",
       "      <td>-0.849116</td>\n",
       "      <td>-1.081977</td>\n",
       "      <td>-0.893172</td>\n",
       "      <td>-0.242570</td>\n",
       "      <td>1.351199</td>\n",
       "      <td>0.941412</td>\n",
       "      <td>-0.461968</td>\n",
       "      <td>-0.497643</td>\n",
       "      <td>0.773559</td>\n",
       "      <td>1.432898</td>\n",
       "    </tr>\n",
       "    <tr>\n",
       "      <th>59</th>\n",
       "      <td>-0.856321</td>\n",
       "      <td>-0.925936</td>\n",
       "      <td>-1.317736</td>\n",
       "      <td>-0.847061</td>\n",
       "      <td>2.879909</td>\n",
       "      <td>-1.085858</td>\n",
       "      <td>0.941412</td>\n",
       "      <td>2.164651</td>\n",
       "      <td>-0.497643</td>\n",
       "      <td>-1.292726</td>\n",
       "      <td>-0.065919</td>\n",
       "    </tr>\n",
       "    <tr>\n",
       "      <th>120</th>\n",
       "      <td>-0.856321</td>\n",
       "      <td>-0.695475</td>\n",
       "      <td>0.201600</td>\n",
       "      <td>-0.121101</td>\n",
       "      <td>-0.024722</td>\n",
       "      <td>-0.815074</td>\n",
       "      <td>0.941412</td>\n",
       "      <td>2.164651</td>\n",
       "      <td>-0.497643</td>\n",
       "      <td>-1.292726</td>\n",
       "      <td>-0.578335</td>\n",
       "    </tr>\n",
       "    <tr>\n",
       "      <th>12</th>\n",
       "      <td>1.498191</td>\n",
       "      <td>1.983643</td>\n",
       "      <td>1.197027</td>\n",
       "      <td>0.934732</td>\n",
       "      <td>-2.203196</td>\n",
       "      <td>-1.627426</td>\n",
       "      <td>-1.062235</td>\n",
       "      <td>-0.461968</td>\n",
       "      <td>-0.497643</td>\n",
       "      <td>0.773559</td>\n",
       "      <td>-1.090751</td>\n",
       "    </tr>\n",
       "    <tr>\n",
       "      <th>349</th>\n",
       "      <td>-0.856321</td>\n",
       "      <td>-0.983552</td>\n",
       "      <td>-0.951000</td>\n",
       "      <td>-1.165111</td>\n",
       "      <td>0.156817</td>\n",
       "      <td>1.351199</td>\n",
       "      <td>0.941412</td>\n",
       "      <td>-0.461968</td>\n",
       "      <td>2.009471</td>\n",
       "      <td>-1.292726</td>\n",
       "      <td>1.356035</td>\n",
       "    </tr>\n",
       "  </tbody>\n",
       "</table>\n",
       "</div>"
      ],
      "text/plain": [
       "     cylinders  dispersion  horsepower    weight  acceleration  model_year  \\\n",
       "350  -0.856321   -0.849116   -1.081977 -0.893172     -0.242570    1.351199   \n",
       "59   -0.856321   -0.925936   -1.317736 -0.847061      2.879909   -1.085858   \n",
       "120  -0.856321   -0.695475    0.201600 -0.121101     -0.024722   -0.815074   \n",
       "12    1.498191    1.983643    1.197027  0.934732     -2.203196   -1.627426   \n",
       "349  -0.856321   -0.983552   -0.951000 -1.165111      0.156817    1.351199   \n",
       "\n",
       "     car_type  origin_Europe  origin_Japan  origin_USA   mileage  \n",
       "350  0.941412      -0.461968     -0.497643    0.773559  1.432898  \n",
       "59   0.941412       2.164651     -0.497643   -1.292726 -0.065919  \n",
       "120  0.941412       2.164651     -0.497643   -1.292726 -0.578335  \n",
       "12  -1.062235      -0.461968     -0.497643    0.773559 -1.090751  \n",
       "349  0.941412      -0.461968      2.009471   -1.292726  1.356035  "
      ]
     },
     "execution_count": 29,
     "metadata": {},
     "output_type": "execute_result"
    }
   ],
   "source": [
    "xydata=pd.concat([x_train,y_train],axis=1)\n",
    "xydata.head()"
   ]
  },
  {
   "cell_type": "code",
   "execution_count": 30,
   "id": "57f2baa3",
   "metadata": {},
   "outputs": [
    {
     "data": {
      "text/plain": [
       "Intercept        0.019284\n",
       "cylinders        0.321022\n",
       "dispersion       0.324834\n",
       "horsepower      -0.229170\n",
       "weight          -0.711210\n",
       "acceleration     0.014714\n",
       "model_year       0.375581\n",
       "car_type         0.381477\n",
       "origin_Europe    0.048349\n",
       "origin_Japan     0.044515\n",
       "origin_USA      -0.074722\n",
       "dtype: float64"
      ]
     },
     "execution_count": 30,
     "metadata": {},
     "output_type": "execute_result"
    }
   ],
   "source": [
    "import statsmodels.formula.api as smf\n",
    "ols=smf.ols(formula='mileage ~ cylinders+dispersion+horsepower+weight+acceleration+model_year+car_type+origin_Europe+origin_Japan+origin_USA',data=xydata).fit()\n",
    "ols.params"
   ]
  },
  {
   "cell_type": "code",
   "execution_count": 31,
   "id": "9010b23f",
   "metadata": {},
   "outputs": [
    {
     "name": "stdout",
     "output_type": "stream",
     "text": [
      "                            OLS Regression Results                            \n",
      "==============================================================================\n",
      "Dep. Variable:                mileage   R-squared:                       0.834\n",
      "Model:                            OLS   Adj. R-squared:                  0.829\n",
      "Method:                 Least Squares   F-statistic:                     150.0\n",
      "Date:                Tue, 29 Apr 2025   Prob (F-statistic):           3.12e-99\n",
      "Time:                        16:52:06   Log-Likelihood:                -146.89\n",
      "No. Observations:                 278   AIC:                             313.8\n",
      "Df Residuals:                     268   BIC:                             350.1\n",
      "Df Model:                           9                                         \n",
      "Covariance Type:            nonrobust                                         \n",
      "=================================================================================\n",
      "                    coef    std err          t      P>|t|      [0.025      0.975]\n",
      "---------------------------------------------------------------------------------\n",
      "Intercept         0.0193      0.025      0.765      0.445      -0.030       0.069\n",
      "cylinders         0.3210      0.112      2.856      0.005       0.100       0.542\n",
      "dispersion        0.3248      0.128      2.544      0.012       0.073       0.576\n",
      "horsepower       -0.2292      0.079     -2.915      0.004      -0.384      -0.074\n",
      "weight           -0.7112      0.088     -8.118      0.000      -0.884      -0.539\n",
      "acceleration      0.0147      0.039      0.373      0.709      -0.063       0.092\n",
      "model_year        0.3756      0.029     13.088      0.000       0.319       0.432\n",
      "car_type          0.3815      0.067      5.728      0.000       0.250       0.513\n",
      "origin_Europe     0.0483      0.021      2.270      0.024       0.006       0.090\n",
      "origin_Japan      0.0445      0.020      2.175      0.031       0.004       0.085\n",
      "origin_USA       -0.0747      0.020     -3.723      0.000      -0.114      -0.035\n",
      "==============================================================================\n",
      "Omnibus:                       22.678   Durbin-Watson:                   2.105\n",
      "Prob(Omnibus):                  0.000   Jarque-Bera (JB):               36.139\n",
      "Skew:                           0.513   Prob(JB):                     1.42e-08\n",
      "Kurtosis:                       4.438   Cond. No.                     1.01e+16\n",
      "==============================================================================\n",
      "\n",
      "Notes:\n",
      "[1] Standard Errors assume that the covariance matrix of the errors is correctly specified.\n",
      "[2] The smallest eigenvalue is 1.54e-29. This might indicate that there are\n",
      "strong multicollinearity problems or that the design matrix is singular.\n"
     ]
    }
   ],
   "source": [
    "print(ols.summary())"
   ]
  },
  {
   "cell_type": "code",
   "execution_count": 32,
   "id": "dea66011",
   "metadata": {},
   "outputs": [
    {
     "name": "stdout",
     "output_type": "stream",
     "text": [
      "Mean Squared Error: 0.1426341322952593\n",
      "Root Mean Squared Error: 0.37766934254087836\n"
     ]
    }
   ],
   "source": [
    "# lets check the sum of squared errors\n",
    "mse=np.mean((y_test-regression_model.predict(x_test))**2)\n",
    "print('Mean Squared Error:',mse)\n",
    "\n",
    "rmse=np.sqrt(mse)\n",
    "print('Root Mean Squared Error:',rmse)"
   ]
  },
  {
   "cell_type": "code",
   "execution_count": 33,
   "id": "a40e8f42",
   "metadata": {},
   "outputs": [
    {
     "data": {
      "text/plain": [
       "<Axes: xlabel='acceleration', ylabel='mileage'>"
      ]
     },
     "execution_count": 33,
     "metadata": {},
     "output_type": "execute_result"
    },
    {
     "data": {
      "image/png": "[encoded data removed]",
      "text/plain": [
       "<Figure size 1000x600 with 1 Axes>"
      ]
     },
     "metadata": {},
     "output_type": "display_data"
    },
    {
     "data": {
      "image/png": "[encoded data removed]",
      "text/plain": [
       "<Figure size 1000x600 with 1 Axes>"
      ]
     },
     "metadata": {},
     "output_type": "display_data"
    }
   ],
   "source": [
    "fig=plt.figure(figsize=(10,6))\n",
    "sns.residplot(x=x_test['horsepower'],y=y_test['mileage'],lowess=True,color='m')\n",
    "\n",
    "fig=plt.figure(figsize=(10,6))\n",
    "sns.residplot(x=x_test['acceleration'],y=y_test['mileage'],lowess=True,color='r')"
   ]
  }
 ],
 "metadata": {
  "kernelspec": {
   "display_name": "Python 3 (ipykernel)",
   "language": "python",
   "name": "python3"
  },
  "language_info": {
   "codemirror_mode": {
    "name": "ipython",
    "version": 3
   },
   "file_extension": ".py",
   "mimetype": "text/x-python",
   "name": "python",
   "nbconvert_exporter": "python",
   "pygments_lexer": "ipython3",
   "version": "3.12.7"
  }
 },
 "nbformat": 4,
 "nbformat_minor": 5
}
